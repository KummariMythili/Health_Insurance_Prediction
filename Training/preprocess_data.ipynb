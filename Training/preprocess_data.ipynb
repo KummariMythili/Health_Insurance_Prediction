{
 "cells": [
  {
   "cell_type": "code",
   "execution_count": 7,
   "id": "a3e67e8d",
   "metadata": {},
   "outputs": [
    {
     "name": "stdout",
     "output_type": "stream",
     "text": [
      "✅ Data Loaded: (574, 11)\n",
      "✅ Preprocessed data and scaler saved.\n"
     ]
    }
   ],
   "source": [
    "# 📌 Import Libraries\n",
    "import pandas as pd\n",
    "import numpy as np\n",
    "from sklearn.preprocessing import LabelEncoder, StandardScaler\n",
    "import os\n",
    "import joblib\n",
    "\n",
    "# 📌 Load Dataset\n",
    "df = pd.read_csv('../Data/raw_data.csv')\n",
    "print(\"✅ Data Loaded:\", df.shape)\n",
    "\n",
    "# 📌 Handle Missing Values\n",
    "df = df.dropna()\n",
    "\n",
    "# 📌 Encode Categorical Variables\n",
    "label_encoders = {}\n",
    "categorical_cols = ['Gender', 'Smoker', 'Type_of_Claim']\n",
    "\n",
    "for col in categorical_cols:\n",
    "    le = LabelEncoder()\n",
    "    df[col] = le.fit_transform(df[col])\n",
    "    label_encoders[col] = le\n",
    "\n",
    "# 📌 Encode Target\n",
    "target_mapping = {'Genuine Claim': 0, 'Fraudulent Claim': 1}\n",
    "df['Claim_Status'] = df['Claim_Status'].map(target_mapping)\n",
    "\n",
    "# 📌 Features and Target\n",
    "X = df.drop('Claim_Status', axis=1)\n",
    "y = df['Claim_Status']\n",
    "\n",
    "# 📌 Apply StandardScaler\n",
    "scaler = StandardScaler()\n",
    "X_scaled = scaler.fit_transform(X)\n",
    "\n",
    "df_scaled = pd.DataFrame(X_scaled, columns=X.columns)\n",
    "df_scaled['Claim_Status'] = y.values\n",
    "\n",
    "# 📌 Save Preprocessed Data & Scaler\n",
    "os.makedirs('../Data', exist_ok=True)\n",
    "os.makedirs('../App/model', exist_ok=True)\n",
    "df_scaled.to_csv('../Data/preprocessed_data.csv', index=False)\n",
    "joblib.dump(scaler, '../App/model/scaler.pkl')\n",
    "\n",
    "print(\"✅ Preprocessed data and scaler saved.\")\n"
   ]
  }
 ],
 "metadata": {
  "kernelspec": {
   "display_name": "health_env",
   "language": "python",
   "name": "python3"
  },
  "language_info": {
   "codemirror_mode": {
    "name": "ipython",
    "version": 3
   },
   "file_extension": ".py",
   "mimetype": "text/x-python",
   "name": "python",
   "nbconvert_exporter": "python",
   "pygments_lexer": "ipython3",
   "version": "3.10.18"
  }
 },
 "nbformat": 4,
 "nbformat_minor": 5
}

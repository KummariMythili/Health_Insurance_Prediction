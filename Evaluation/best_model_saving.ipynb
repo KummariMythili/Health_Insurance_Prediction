{
 "cells": [
  {
   "cell_type": "code",
   "execution_count": 3,
   "id": "948e7779",
   "metadata": {},
   "outputs": [
    {
     "name": "stdout",
     "output_type": "stream",
     "text": [
      "✅ Best Model (Gradient Boosting) saved as model.pkl\n"
     ]
    }
   ],
   "source": [
    "# 📌 Import\n",
    "import pandas as pd\n",
    "import joblib\n",
    "import os\n",
    "from sklearn.model_selection import train_test_split\n",
    "from sklearn.ensemble import GradientBoostingClassifier\n",
    "\n",
    "# 📌 Load Data\n",
    "df = pd.read_csv('../Data/preprocessed_data.csv')\n",
    "X = df.drop('Claim_Status', axis=1)\n",
    "y = df['Claim_Status']\n",
    "\n",
    "# 📌 Split\n",
    "X_train, X_test, y_train, y_test = train_test_split(X, y, test_size=0.2, stratify=y, random_state=42)\n",
    "\n",
    "# 📌 Train Best Model\n",
    "model = GradientBoostingClassifier(n_estimators=100, random_state=42)\n",
    "model.fit(X_train, y_train)\n",
    "\n",
    "# 📌 Save\n",
    "os.makedirs('../App/model', exist_ok=True)\n",
    "joblib.dump(model, '../App/model/model.pkl')\n",
    "\n",
    "print(\"✅ Best Model (Gradient Boosting) saved as model.pkl\")\n"
   ]
  }
 ],
 "metadata": {
  "kernelspec": {
   "display_name": "health_env",
   "language": "python",
   "name": "python3"
  },
  "language_info": {
   "codemirror_mode": {
    "name": "ipython",
    "version": 3
   },
   "file_extension": ".py",
   "mimetype": "text/x-python",
   "name": "python",
   "nbconvert_exporter": "python",
   "pygments_lexer": "ipython3",
   "version": "3.10.18"
  }
 },
 "nbformat": 4,
 "nbformat_minor": 5
}

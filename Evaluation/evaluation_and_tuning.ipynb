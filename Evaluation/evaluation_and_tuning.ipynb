{
 "cells": [
  {
   "cell_type": "code",
   "execution_count": 3,
   "id": "1bd0c076",
   "metadata": {},
   "outputs": [
    {
     "name": "stdout",
     "output_type": "stream",
     "text": [
      "Best Parameters: {'learning_rate': 0.1, 'max_depth': 3, 'n_estimators': 150}\n",
      "Accuracy: 0.5304347826086957\n",
      "              precision    recall  f1-score   support\n",
      "\n",
      "           0       0.53      0.55      0.54        58\n",
      "           1       0.53      0.51      0.52        57\n",
      "\n",
      "    accuracy                           0.53       115\n",
      "   macro avg       0.53      0.53      0.53       115\n",
      "weighted avg       0.53      0.53      0.53       115\n",
      "\n",
      "[[32 26]\n",
      " [28 29]]\n",
      "✅ Fine-tuned model saved as fine_tune.pkl\n"
     ]
    }
   ],
   "source": [
    "# 📌 Import\n",
    "import pandas as pd\n",
    "import joblib\n",
    "import os\n",
    "from sklearn.model_selection import train_test_split, GridSearchCV\n",
    "from sklearn.ensemble import GradientBoostingClassifier\n",
    "from sklearn.metrics import accuracy_score, classification_report, confusion_matrix\n",
    "\n",
    "# 📌 Load Data\n",
    "df = pd.read_csv('../Data/preprocessed_data.csv')\n",
    "X = df.drop('Claim_Status', axis=1)\n",
    "y = df['Claim_Status']\n",
    "\n",
    "# 📌 Split\n",
    "X_train, X_test, y_train, y_test = train_test_split(X, y, test_size=0.2, stratify=y, random_state=42)\n",
    "\n",
    "# 📌 Grid Search\n",
    "param_grid = {\n",
    "    'n_estimators': [100, 150],\n",
    "    'learning_rate': [0.05, 0.1],\n",
    "    'max_depth': [3, 4]\n",
    "}\n",
    "\n",
    "grid = GridSearchCV(GradientBoostingClassifier(random_state=42), param_grid, cv=5, scoring='accuracy', n_jobs=-1)\n",
    "grid.fit(X_train, y_train)\n",
    "\n",
    "# 📌 Evaluation\n",
    "best_model = grid.best_estimator_\n",
    "y_pred = best_model.predict(X_test)\n",
    "\n",
    "print(\"Best Parameters:\", grid.best_params_)\n",
    "print(\"Accuracy:\", accuracy_score(y_test, y_pred))\n",
    "print(classification_report(y_test, y_pred))\n",
    "print(confusion_matrix(y_test, y_pred))\n",
    "\n",
    "# 📌 Save Fine-Tuned Model\n",
    "os.makedirs('../App/model', exist_ok=True)\n",
    "joblib.dump(best_model, '../App/model/fine_tune.pkl')\n",
    "print(\"✅ Fine-tuned model saved as fine_tune.pkl\")\n"
   ]
  }
 ],
 "metadata": {
  "kernelspec": {
   "display_name": "health_env",
   "language": "python",
   "name": "python3"
  },
  "language_info": {
   "codemirror_mode": {
    "name": "ipython",
    "version": 3
   },
   "file_extension": ".py",
   "mimetype": "text/x-python",
   "name": "python",
   "nbconvert_exporter": "python",
   "pygments_lexer": "ipython3",
   "version": "3.10.18"
  }
 },
 "nbformat": 4,
 "nbformat_minor": 5
}
